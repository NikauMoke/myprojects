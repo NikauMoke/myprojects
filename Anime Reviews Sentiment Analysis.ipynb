{
 "cells": [
  {
   "cell_type": "markdown",
   "id": "121bc409",
   "metadata": {},
   "source": [
    "# Sentiment Analysis Project\n",
    "\n",
    " - Sentiment analysis on myanimelist user reviews. Reviews will be ranked Positive, Negative or Neutral."
   ]
  },
  {
   "cell_type": "code",
   "execution_count": 48,
   "id": "5c65a179",
   "metadata": {},
   "outputs": [],
   "source": [
    "import pandas as pd \n",
    "import numpy as np\n",
    "import matplotlib.pyplot as plt\n",
    "import seaborn as sns\n",
    "import nltk\n",
    "\n",
    "import re"
   ]
  },
  {
   "cell_type": "code",
   "execution_count": 85,
   "id": "c652a702",
   "metadata": {},
   "outputs": [],
   "source": [
    "# loading the dataset\n",
    "\n",
    "df = pd.read_csv(\"C:/Users/nikau/OneDrive/Desktop/IOD/DataSets/reviews.csv\")"
   ]
  },
  {
   "cell_type": "code",
   "execution_count": 86,
   "id": "2ceb1b32",
   "metadata": {},
   "outputs": [
    {
     "data": {
      "text/html": [
       "<div>\n",
       "<style scoped>\n",
       "    .dataframe tbody tr th:only-of-type {\n",
       "        vertical-align: middle;\n",
       "    }\n",
       "\n",
       "    .dataframe tbody tr th {\n",
       "        vertical-align: top;\n",
       "    }\n",
       "\n",
       "    .dataframe thead th {\n",
       "        text-align: right;\n",
       "    }\n",
       "</style>\n",
       "<table border=\"1\" class=\"dataframe\">\n",
       "  <thead>\n",
       "    <tr style=\"text-align: right;\">\n",
       "      <th></th>\n",
       "      <th>uid</th>\n",
       "      <th>profile</th>\n",
       "      <th>anime_uid</th>\n",
       "      <th>text</th>\n",
       "      <th>score</th>\n",
       "      <th>scores</th>\n",
       "      <th>link</th>\n",
       "    </tr>\n",
       "  </thead>\n",
       "  <tbody>\n",
       "    <tr>\n",
       "      <th>0</th>\n",
       "      <td>255938</td>\n",
       "      <td>DesolatePsyche</td>\n",
       "      <td>34096</td>\n",
       "      <td>\\n           \\n         \\n           \\n       ...</td>\n",
       "      <td>8</td>\n",
       "      <td>{'Overall': '8', 'Story': '8', 'Animation': '8...</td>\n",
       "      <td>https://myanimelist.net/reviews.php?id=255938</td>\n",
       "    </tr>\n",
       "    <tr>\n",
       "      <th>1</th>\n",
       "      <td>259117</td>\n",
       "      <td>baekbeans</td>\n",
       "      <td>34599</td>\n",
       "      <td>\\n           \\n         \\n           \\n       ...</td>\n",
       "      <td>10</td>\n",
       "      <td>{'Overall': '10', 'Story': '10', 'Animation': ...</td>\n",
       "      <td>https://myanimelist.net/reviews.php?id=259117</td>\n",
       "    </tr>\n",
       "    <tr>\n",
       "      <th>2</th>\n",
       "      <td>253664</td>\n",
       "      <td>skrn</td>\n",
       "      <td>28891</td>\n",
       "      <td>\\n           \\n         \\n           \\n       ...</td>\n",
       "      <td>7</td>\n",
       "      <td>{'Overall': '7', 'Story': '7', 'Animation': '9...</td>\n",
       "      <td>https://myanimelist.net/reviews.php?id=253664</td>\n",
       "    </tr>\n",
       "    <tr>\n",
       "      <th>3</th>\n",
       "      <td>8254</td>\n",
       "      <td>edgewalker00</td>\n",
       "      <td>2904</td>\n",
       "      <td>\\n           \\n         \\n           \\n       ...</td>\n",
       "      <td>9</td>\n",
       "      <td>{'Overall': '9', 'Story': '9', 'Animation': '9...</td>\n",
       "      <td>https://myanimelist.net/reviews.php?id=8254</td>\n",
       "    </tr>\n",
       "    <tr>\n",
       "      <th>4</th>\n",
       "      <td>291149</td>\n",
       "      <td>aManOfCulture99</td>\n",
       "      <td>4181</td>\n",
       "      <td>\\n           \\n         \\n           \\n       ...</td>\n",
       "      <td>10</td>\n",
       "      <td>{'Overall': '10', 'Story': '10', 'Animation': ...</td>\n",
       "      <td>https://myanimelist.net/reviews.php?id=291149</td>\n",
       "    </tr>\n",
       "  </tbody>\n",
       "</table>\n",
       "</div>"
      ],
      "text/plain": [
       "      uid          profile  anime_uid  \\\n",
       "0  255938   DesolatePsyche      34096   \n",
       "1  259117        baekbeans      34599   \n",
       "2  253664             skrn      28891   \n",
       "3    8254     edgewalker00       2904   \n",
       "4  291149  aManOfCulture99       4181   \n",
       "\n",
       "                                                text  score  \\\n",
       "0  \\n           \\n         \\n           \\n       ...      8   \n",
       "1  \\n           \\n         \\n           \\n       ...     10   \n",
       "2  \\n           \\n         \\n           \\n       ...      7   \n",
       "3  \\n           \\n         \\n           \\n       ...      9   \n",
       "4  \\n           \\n         \\n           \\n       ...     10   \n",
       "\n",
       "                                              scores  \\\n",
       "0  {'Overall': '8', 'Story': '8', 'Animation': '8...   \n",
       "1  {'Overall': '10', 'Story': '10', 'Animation': ...   \n",
       "2  {'Overall': '7', 'Story': '7', 'Animation': '9...   \n",
       "3  {'Overall': '9', 'Story': '9', 'Animation': '9...   \n",
       "4  {'Overall': '10', 'Story': '10', 'Animation': ...   \n",
       "\n",
       "                                            link  \n",
       "0  https://myanimelist.net/reviews.php?id=255938  \n",
       "1  https://myanimelist.net/reviews.php?id=259117  \n",
       "2  https://myanimelist.net/reviews.php?id=253664  \n",
       "3    https://myanimelist.net/reviews.php?id=8254  \n",
       "4  https://myanimelist.net/reviews.php?id=291149  "
      ]
     },
     "execution_count": 86,
     "metadata": {},
     "output_type": "execute_result"
    }
   ],
   "source": [
    "df.head()"
   ]
  },
  {
   "cell_type": "code",
   "execution_count": 87,
   "id": "1dca292d",
   "metadata": {},
   "outputs": [
    {
     "data": {
      "text/plain": [
       "(192112, 7)"
      ]
     },
     "execution_count": 87,
     "metadata": {},
     "output_type": "execute_result"
    }
   ],
   "source": [
    "df.shape"
   ]
  },
  {
   "cell_type": "code",
   "execution_count": 88,
   "id": "ca0e31c1",
   "metadata": {},
   "outputs": [
    {
     "name": "stdout",
     "output_type": "stream",
     "text": [
      "<class 'pandas.core.frame.DataFrame'>\n",
      "RangeIndex: 192112 entries, 0 to 192111\n",
      "Data columns (total 7 columns):\n",
      " #   Column     Non-Null Count   Dtype \n",
      "---  ------     --------------   ----- \n",
      " 0   uid        192112 non-null  int64 \n",
      " 1   profile    192112 non-null  object\n",
      " 2   anime_uid  192112 non-null  int64 \n",
      " 3   text       192112 non-null  object\n",
      " 4   score      192112 non-null  int64 \n",
      " 5   scores     192112 non-null  object\n",
      " 6   link       192112 non-null  object\n",
      "dtypes: int64(3), object(4)\n",
      "memory usage: 10.3+ MB\n"
     ]
    }
   ],
   "source": [
    "df.info()"
   ]
  },
  {
   "cell_type": "code",
   "execution_count": 89,
   "id": "0bec6a3d",
   "metadata": {},
   "outputs": [
    {
     "name": "stdout",
     "output_type": "stream",
     "text": [
      "Original Dataset : (192112, 7)\n",
      "Sample Dataset : (3000, 7)\n"
     ]
    }
   ],
   "source": [
    "print(f'Original Dataset : {df.shape}')\n",
    "\n",
    "\n",
    "# using a small portion of dataset \n",
    "\n",
    "df = df.head(3000)\n",
    "print(f'Sample Dataset : {df.shape}')"
   ]
  },
  {
   "cell_type": "markdown",
   "id": "641946b3",
   "metadata": {},
   "source": [
    "## Quick EDA"
   ]
  },
  {
   "cell_type": "code",
   "execution_count": 90,
   "id": "b2deb2eb",
   "metadata": {},
   "outputs": [
    {
     "data": {
      "text/plain": [
       "9     0.228667\n",
       "8     0.215000\n",
       "10    0.197000\n",
       "7     0.138000\n",
       "6     0.086667\n",
       "5     0.049000\n",
       "4     0.036000\n",
       "3     0.028333\n",
       "2     0.011667\n",
       "1     0.009667\n",
       "Name: score, dtype: float64"
      ]
     },
     "execution_count": 90,
     "metadata": {},
     "output_type": "execute_result"
    }
   ],
   "source": [
    "# percentage of the sample dataset\n",
    "\n",
    "percentage = (df['score'].value_counts())/(np.sum(df['score'].value_counts()))\n",
    "percentage"
   ]
  },
  {
   "cell_type": "code",
   "execution_count": 91,
   "id": "3d259463",
   "metadata": {},
   "outputs": [
    {
     "data": {
      "image/png": "[encoded data removed]",
      "text/plain": [
       "<Figure size 720x360 with 1 Axes>"
      ]
     },
     "metadata": {
      "needs_background": "light"
     },
     "output_type": "display_data"
    }
   ],
   "source": [
    "ax = df['score'].value_counts().sort_index() \\\n",
    "        .plot(kind='bar',title='Count of Reviews by Score',\n",
    "             figsize=(10,5), color='purple')\n",
    "ax.set_xlabel('Review Scores')\n",
    "plt.show()"
   ]
  },
  {
   "cell_type": "markdown",
   "id": "39ce75fe",
   "metadata": {},
   "source": [
    "## NLTK"
   ]
  },
  {
   "cell_type": "code",
   "execution_count": 92,
   "id": "9b719c46",
   "metadata": {},
   "outputs": [
    {
     "data": {
      "text/plain": [
       "\"\\n           \\n         \\n           \\n             \\n           \\n         \\n         \\n           more pics \\n         \\n       \\n         \\n       \\n         \\n           Overall \\n           6 \\n         \\n         \\n           Story \\n           6 \\n         \\n                   \\n             Animation \\n             7 \\n           \\n           \\n             Sound \\n             6 \\n           \\n                 \\n           Character \\n           5 \\n         \\n         \\n           Enjoyment \\n           7 \\n         \\n       \\n     \\n\\n                    \\n    Looking at the score, you might think I belong to the 'Anti K-ON' fraction. I am not necessarily a hater, since in terms of slice-of-life genre, K-ON is better than most anime out there.  \\r\\n \\r\\nIf you want to look at this series on the positive light, think of it as a filler. Think of it as a plotless story with cute girls gathering and playing around. Think not of it as a story about the birth of a band. \\r\\n \\r\\nThere is almost no character development nor conclusion. K-ON simply offers light and fluffy heart-warming skits for your pleasure. Yet, the characters of K-ON sufficiently meet the expectation, especially for the male audiences. I mean, who will not be enthralled by seeing a girl as cute and seductive as Mio? Will there be any lolicon (sorry) out there be not thrilled with Asuza? \\r\\n \\r\\nHow unrealistic and forgettable K-ON is, it is still an adequate entertainment to spend your free time. It is nothing sort of Beck, which is indeed a true music anime. It wants to achieve the excellence of the likes of Lucky Star and Azumanga Daioh, yet it is still missing an emotional element that all otakus out there need: the interaction with the audience. K-ON never attempts to break the fourth wall and make fun of popular culture. Its music is okay for the standard of J-pop but not that impressive. \\r\\n \\r\\nOverall, it is 'easy come, easy go' for the five girls of the Light Music Group. Nothing more, nothing less.\\n\\n          \\n \\n       Helpful \\n   \\n      \""
      ]
     },
     "execution_count": 92,
     "metadata": {},
     "output_type": "execute_result"
    }
   ],
   "source": [
    "# taking random text as example\n",
    "\n",
    "example = df['text'][500]\n",
    "example"
   ]
  },
  {
   "cell_type": "code",
   "execution_count": 93,
   "id": "aa5954a3",
   "metadata": {},
   "outputs": [
    {
     "name": "stdout",
     "output_type": "stream",
     "text": [
      "                                                                                    more pics                                                     Overall            8                              Story            8                                          Animation              8                                    Sound              10                                        Character            9                              Enjoyment            8                                              First things first. My \"reviews\" system is explained on a blog entry. Which can be found through my profile. ------  I'm going to keep this \"review\" more of a opinion of Gintama's overall and then this season specific.  Anyhow. What I have always loved regarding Gintama, is its content of everything. I love the comedy, its absurd, random, can be vile, dirty, sweet, anyhow, everything. Have laughed countless times in this franchise. Also the humor they have also is heavily reference based, a.k.a parodies of different anime, shows, manga, live stuff, real world, anime production and so on. Anyhow, comedy/parody side of this franchise i absolutely love.  Now, 2nd side of this show is the serious dramas, epic battle shounens and so on.. There are arcs that are fully comedy, arcs that are fully serious and mixtures of both. Serious side is usually quite dramatic and managed to somewhat tear me up now and then. Whilst the action sequences are absolute bliss as well. They are just presented in a really cool manner. And extra points when sometime the add artistic element.  Of course it has its slice-of-life side and pseudo-romance. Those are weaker side, but ain't the focus. But when sometimes those are the \"focus\", then they are done in enjoyable method.  To sum up overall gintama's, I love the serious side and the silly side.  Art and sound  is something I loved in all gintamas across the board. They just click with me, bliss to look at, bliss to hear. Music  specifically are hyped up and upbeat, which generally I don't like, but gintama is the exception where I love them. Art is cool, sometimes artistic, sometimes simple. It has a bit of everything that makes it enjoyable. And gore is absolutely satisfying as well.   Well, the serious side of stories in this anime are superb in my opinion. . But wouldn't say comedic side of series story is any worse.  When at times comedy side has \"story\". It's usually quite enjoyable.  Regarding characters I don't have much to say other than that variety, stereotypes of \"off-stereotypes\" is very large. As well characters with depth but as well with oddity is as well in great selection. Main team. Gintoki the lazy dirty slob with superb second side of seriousness and caring about friends/allies. Shinpachi the poor straight-man-act sidekick, who adds great value to the team. Kagura, the battle race girl that doesn't act like girl almost at all, or in another words a dirty slob girl in a sense. -----------------  Now, to this season specific.  I found it a bit disappointing. Mainly because usually in gintama we have overly serious arcs or fully comedic, whilst this one had a bit of mixture of both, which somewhat ruined the experience. Plus the artistic presentation felt this time around a bit lacking. Maybe because of another studio, who knows. But anyhow, it didn't feel as superb. Rather than gintama it felt as watching just another good battle shounen anime in modern day with simplified animation.  I mean it definitely was not any bad, just didn't have the punch Gintama usually has. Might be because it was short series, maybe because it focused too much moving on with story. It'll be shame to see it finalized in this manner.  Rest I pretty much loved as usual in Gintama franchise.                  Helpful          \n"
     ]
    }
   ],
   "source": [
    "# function to remove the \"\\n \\r\"\n",
    "\n",
    "uid = 255938\n",
    "text = df[df['uid'] == uid].text.values[0]\n",
    "\n",
    "def clean_up_text(text):\n",
    "    doc = re.sub(\"[\\(\\[].*?[\\)\\]]\", \"\", text)\n",
    "    doc = doc.replace(u'\\n', u'').replace(u'\\r', u'')\n",
    "    return doc\n",
    "\n",
    "doc = clean_up_text(text)\n",
    "print(doc)"
   ]
  },
  {
   "cell_type": "code",
   "execution_count": 94,
   "id": "fc2f2f1c",
   "metadata": {},
   "outputs": [
    {
     "data": {
      "text/html": [
       "<div>\n",
       "<style scoped>\n",
       "    .dataframe tbody tr th:only-of-type {\n",
       "        vertical-align: middle;\n",
       "    }\n",
       "\n",
       "    .dataframe tbody tr th {\n",
       "        vertical-align: top;\n",
       "    }\n",
       "\n",
       "    .dataframe thead th {\n",
       "        text-align: right;\n",
       "    }\n",
       "</style>\n",
       "<table border=\"1\" class=\"dataframe\">\n",
       "  <thead>\n",
       "    <tr style=\"text-align: right;\">\n",
       "      <th></th>\n",
       "      <th>uid</th>\n",
       "      <th>profile</th>\n",
       "      <th>anime_uid</th>\n",
       "      <th>text</th>\n",
       "      <th>score</th>\n",
       "      <th>scores</th>\n",
       "      <th>link</th>\n",
       "    </tr>\n",
       "  </thead>\n",
       "  <tbody>\n",
       "    <tr>\n",
       "      <th>0</th>\n",
       "      <td>255938</td>\n",
       "      <td>DesolatePsyche</td>\n",
       "      <td>34096</td>\n",
       "      <td>...</td>\n",
       "      <td>8</td>\n",
       "      <td>{'Overall': '8', 'Story': '8', 'Animation': '8...</td>\n",
       "      <td>https://myanimelist.net/reviews.php?id=255938</td>\n",
       "    </tr>\n",
       "    <tr>\n",
       "      <th>1</th>\n",
       "      <td>259117</td>\n",
       "      <td>baekbeans</td>\n",
       "      <td>34599</td>\n",
       "      <td>...</td>\n",
       "      <td>10</td>\n",
       "      <td>{'Overall': '10', 'Story': '10', 'Animation': ...</td>\n",
       "      <td>https://myanimelist.net/reviews.php?id=259117</td>\n",
       "    </tr>\n",
       "    <tr>\n",
       "      <th>2</th>\n",
       "      <td>253664</td>\n",
       "      <td>skrn</td>\n",
       "      <td>28891</td>\n",
       "      <td>...</td>\n",
       "      <td>7</td>\n",
       "      <td>{'Overall': '7', 'Story': '7', 'Animation': '9...</td>\n",
       "      <td>https://myanimelist.net/reviews.php?id=253664</td>\n",
       "    </tr>\n",
       "    <tr>\n",
       "      <th>3</th>\n",
       "      <td>8254</td>\n",
       "      <td>edgewalker00</td>\n",
       "      <td>2904</td>\n",
       "      <td>...</td>\n",
       "      <td>9</td>\n",
       "      <td>{'Overall': '9', 'Story': '9', 'Animation': '9...</td>\n",
       "      <td>https://myanimelist.net/reviews.php?id=8254</td>\n",
       "    </tr>\n",
       "    <tr>\n",
       "      <th>4</th>\n",
       "      <td>291149</td>\n",
       "      <td>aManOfCulture99</td>\n",
       "      <td>4181</td>\n",
       "      <td>...</td>\n",
       "      <td>10</td>\n",
       "      <td>{'Overall': '10', 'Story': '10', 'Animation': ...</td>\n",
       "      <td>https://myanimelist.net/reviews.php?id=291149</td>\n",
       "    </tr>\n",
       "  </tbody>\n",
       "</table>\n",
       "</div>"
      ],
      "text/plain": [
       "      uid          profile  anime_uid  \\\n",
       "0  255938   DesolatePsyche      34096   \n",
       "1  259117        baekbeans      34599   \n",
       "2  253664             skrn      28891   \n",
       "3    8254     edgewalker00       2904   \n",
       "4  291149  aManOfCulture99       4181   \n",
       "\n",
       "                                                text  score  \\\n",
       "0                                                ...      8   \n",
       "1                                                ...     10   \n",
       "2                                                ...      7   \n",
       "3                                                ...      9   \n",
       "4                                                ...     10   \n",
       "\n",
       "                                              scores  \\\n",
       "0  {'Overall': '8', 'Story': '8', 'Animation': '8...   \n",
       "1  {'Overall': '10', 'Story': '10', 'Animation': ...   \n",
       "2  {'Overall': '7', 'Story': '7', 'Animation': '9...   \n",
       "3  {'Overall': '9', 'Story': '9', 'Animation': '9...   \n",
       "4  {'Overall': '10', 'Story': '10', 'Animation': ...   \n",
       "\n",
       "                                            link  \n",
       "0  https://myanimelist.net/reviews.php?id=255938  \n",
       "1  https://myanimelist.net/reviews.php?id=259117  \n",
       "2  https://myanimelist.net/reviews.php?id=253664  \n",
       "3    https://myanimelist.net/reviews.php?id=8254  \n",
       "4  https://myanimelist.net/reviews.php?id=291149  "
      ]
     },
     "execution_count": 94,
     "metadata": {},
     "output_type": "execute_result"
    }
   ],
   "source": [
    "# we apply the function to the entire text and create a new clean text column\n",
    "\n",
    "df['text'] = df['text'].map(lambda x: clean_up_text(x))\n",
    "df.head()"
   ]
  },
  {
   "cell_type": "code",
   "execution_count": 95,
   "id": "c40a61cd",
   "metadata": {},
   "outputs": [
    {
     "name": "stderr",
     "output_type": "stream",
     "text": [
      "[nltk_data] Downloading package vader_lexicon to\n",
      "[nltk_data]     C:\\Users\\nikau\\AppData\\Roaming\\nltk_data...\n",
      "[nltk_data]   Package vader_lexicon is already up-to-date!\n"
     ]
    },
    {
     "data": {
      "text/plain": [
       "True"
      ]
     },
     "execution_count": 95,
     "metadata": {},
     "output_type": "execute_result"
    }
   ],
   "source": [
    "# labes are added for sentiment analysis\n",
    "\n",
    "import nltk\n",
    "from nltk.sentiment.vader import SentimentIntensityAnalyzer\n",
    "nltk.download(\"vader_lexicon\")\n",
    "\n",
    "# https://www.kaggle.com/datasets/nltkdata/vader-lexicon \n",
    "# lexicon is widely used for sentiment analysis"
   ]
  },
  {
   "cell_type": "code",
   "execution_count": 96,
   "id": "2ca1bbcd",
   "metadata": {},
   "outputs": [
    {
     "data": {
      "text/html": [
       "<div>\n",
       "<style scoped>\n",
       "    .dataframe tbody tr th:only-of-type {\n",
       "        vertical-align: middle;\n",
       "    }\n",
       "\n",
       "    .dataframe tbody tr th {\n",
       "        vertical-align: top;\n",
       "    }\n",
       "\n",
       "    .dataframe thead th {\n",
       "        text-align: right;\n",
       "    }\n",
       "</style>\n",
       "<table border=\"1\" class=\"dataframe\">\n",
       "  <thead>\n",
       "    <tr style=\"text-align: right;\">\n",
       "      <th></th>\n",
       "      <th>uid</th>\n",
       "      <th>profile</th>\n",
       "      <th>anime_uid</th>\n",
       "      <th>text</th>\n",
       "      <th>score</th>\n",
       "      <th>scores</th>\n",
       "      <th>link</th>\n",
       "      <th>Positive</th>\n",
       "      <th>Negative</th>\n",
       "      <th>Neutral</th>\n",
       "      <th>Compound</th>\n",
       "    </tr>\n",
       "  </thead>\n",
       "  <tbody>\n",
       "    <tr>\n",
       "      <th>0</th>\n",
       "      <td>255938</td>\n",
       "      <td>DesolatePsyche</td>\n",
       "      <td>34096</td>\n",
       "      <td>...</td>\n",
       "      <td>8</td>\n",
       "      <td>{'Overall': '8', 'Story': '8', 'Animation': '8...</td>\n",
       "      <td>https://myanimelist.net/reviews.php?id=255938</td>\n",
       "      <td>0.218</td>\n",
       "      <td>0.096</td>\n",
       "      <td>0.686</td>\n",
       "      <td>0.9984</td>\n",
       "    </tr>\n",
       "    <tr>\n",
       "      <th>1</th>\n",
       "      <td>259117</td>\n",
       "      <td>baekbeans</td>\n",
       "      <td>34599</td>\n",
       "      <td>...</td>\n",
       "      <td>10</td>\n",
       "      <td>{'Overall': '10', 'Story': '10', 'Animation': ...</td>\n",
       "      <td>https://myanimelist.net/reviews.php?id=259117</td>\n",
       "      <td>0.192</td>\n",
       "      <td>0.083</td>\n",
       "      <td>0.725</td>\n",
       "      <td>0.9989</td>\n",
       "    </tr>\n",
       "    <tr>\n",
       "      <th>2</th>\n",
       "      <td>253664</td>\n",
       "      <td>skrn</td>\n",
       "      <td>28891</td>\n",
       "      <td>...</td>\n",
       "      <td>7</td>\n",
       "      <td>{'Overall': '7', 'Story': '7', 'Animation': '9...</td>\n",
       "      <td>https://myanimelist.net/reviews.php?id=253664</td>\n",
       "      <td>0.200</td>\n",
       "      <td>0.050</td>\n",
       "      <td>0.749</td>\n",
       "      <td>0.9871</td>\n",
       "    </tr>\n",
       "    <tr>\n",
       "      <th>3</th>\n",
       "      <td>8254</td>\n",
       "      <td>edgewalker00</td>\n",
       "      <td>2904</td>\n",
       "      <td>...</td>\n",
       "      <td>9</td>\n",
       "      <td>{'Overall': '9', 'Story': '9', 'Animation': '9...</td>\n",
       "      <td>https://myanimelist.net/reviews.php?id=8254</td>\n",
       "      <td>0.137</td>\n",
       "      <td>0.086</td>\n",
       "      <td>0.777</td>\n",
       "      <td>0.9965</td>\n",
       "    </tr>\n",
       "    <tr>\n",
       "      <th>4</th>\n",
       "      <td>291149</td>\n",
       "      <td>aManOfCulture99</td>\n",
       "      <td>4181</td>\n",
       "      <td>...</td>\n",
       "      <td>10</td>\n",
       "      <td>{'Overall': '10', 'Story': '10', 'Animation': ...</td>\n",
       "      <td>https://myanimelist.net/reviews.php?id=291149</td>\n",
       "      <td>0.220</td>\n",
       "      <td>0.056</td>\n",
       "      <td>0.724</td>\n",
       "      <td>0.9965</td>\n",
       "    </tr>\n",
       "  </tbody>\n",
       "</table>\n",
       "</div>"
      ],
      "text/plain": [
       "      uid          profile  anime_uid  \\\n",
       "0  255938   DesolatePsyche      34096   \n",
       "1  259117        baekbeans      34599   \n",
       "2  253664             skrn      28891   \n",
       "3    8254     edgewalker00       2904   \n",
       "4  291149  aManOfCulture99       4181   \n",
       "\n",
       "                                                text  score  \\\n",
       "0                                                ...      8   \n",
       "1                                                ...     10   \n",
       "2                                                ...      7   \n",
       "3                                                ...      9   \n",
       "4                                                ...     10   \n",
       "\n",
       "                                              scores  \\\n",
       "0  {'Overall': '8', 'Story': '8', 'Animation': '8...   \n",
       "1  {'Overall': '10', 'Story': '10', 'Animation': ...   \n",
       "2  {'Overall': '7', 'Story': '7', 'Animation': '9...   \n",
       "3  {'Overall': '9', 'Story': '9', 'Animation': '9...   \n",
       "4  {'Overall': '10', 'Story': '10', 'Animation': ...   \n",
       "\n",
       "                                            link  Positive  Negative  Neutral  \\\n",
       "0  https://myanimelist.net/reviews.php?id=255938     0.218     0.096    0.686   \n",
       "1  https://myanimelist.net/reviews.php?id=259117     0.192     0.083    0.725   \n",
       "2  https://myanimelist.net/reviews.php?id=253664     0.200     0.050    0.749   \n",
       "3    https://myanimelist.net/reviews.php?id=8254     0.137     0.086    0.777   \n",
       "4  https://myanimelist.net/reviews.php?id=291149     0.220     0.056    0.724   \n",
       "\n",
       "   Compound  \n",
       "0    0.9984  \n",
       "1    0.9989  \n",
       "2    0.9871  \n",
       "3    0.9965  \n",
       "4    0.9965  "
      ]
     },
     "execution_count": 96,
     "metadata": {},
     "output_type": "execute_result"
    }
   ],
   "source": [
    "sentiments = SentimentIntensityAnalyzer()\n",
    "\n",
    "# we create the columns Positive, Negative, Neutral and Compound which determines the scores of feelings thanks to the SentimentIntensityAnalyzer\n",
    "\n",
    "df[\"Positive\"] = [sentiments.polarity_scores(i)[\"pos\"] for i in df[\"text\"]]\n",
    "df[\"Negative\"] = [sentiments.polarity_scores(i)[\"neg\"] for i in df[\"text\"]]\n",
    "df[\"Neutral\"] = [sentiments.polarity_scores(i)[\"neu\"] for i in df[\"text\"]]\n",
    "df['Compound'] = [sentiments.polarity_scores(i)[\"compound\"] for i in df[\"text\"]]\n",
    "df.head()"
   ]
  },
  {
   "cell_type": "code",
   "execution_count": 97,
   "id": "7f24a654",
   "metadata": {},
   "outputs": [
    {
     "data": {
      "text/html": [
       "<div>\n",
       "<style scoped>\n",
       "    .dataframe tbody tr th:only-of-type {\n",
       "        vertical-align: middle;\n",
       "    }\n",
       "\n",
       "    .dataframe tbody tr th {\n",
       "        vertical-align: top;\n",
       "    }\n",
       "\n",
       "    .dataframe thead th {\n",
       "        text-align: right;\n",
       "    }\n",
       "</style>\n",
       "<table border=\"1\" class=\"dataframe\">\n",
       "  <thead>\n",
       "    <tr style=\"text-align: right;\">\n",
       "      <th></th>\n",
       "      <th>uid</th>\n",
       "      <th>profile</th>\n",
       "      <th>anime_uid</th>\n",
       "      <th>text</th>\n",
       "      <th>score</th>\n",
       "      <th>scores</th>\n",
       "      <th>link</th>\n",
       "      <th>Positive</th>\n",
       "      <th>Negative</th>\n",
       "      <th>Neutral</th>\n",
       "      <th>Compound</th>\n",
       "      <th>Sentiment</th>\n",
       "    </tr>\n",
       "  </thead>\n",
       "  <tbody>\n",
       "    <tr>\n",
       "      <th>0</th>\n",
       "      <td>255938</td>\n",
       "      <td>DesolatePsyche</td>\n",
       "      <td>34096</td>\n",
       "      <td>...</td>\n",
       "      <td>8</td>\n",
       "      <td>{'Overall': '8', 'Story': '8', 'Animation': '8...</td>\n",
       "      <td>https://myanimelist.net/reviews.php?id=255938</td>\n",
       "      <td>0.218</td>\n",
       "      <td>0.096</td>\n",
       "      <td>0.686</td>\n",
       "      <td>0.9984</td>\n",
       "      <td>Positive</td>\n",
       "    </tr>\n",
       "    <tr>\n",
       "      <th>1</th>\n",
       "      <td>259117</td>\n",
       "      <td>baekbeans</td>\n",
       "      <td>34599</td>\n",
       "      <td>...</td>\n",
       "      <td>10</td>\n",
       "      <td>{'Overall': '10', 'Story': '10', 'Animation': ...</td>\n",
       "      <td>https://myanimelist.net/reviews.php?id=259117</td>\n",
       "      <td>0.192</td>\n",
       "      <td>0.083</td>\n",
       "      <td>0.725</td>\n",
       "      <td>0.9989</td>\n",
       "      <td>Positive</td>\n",
       "    </tr>\n",
       "    <tr>\n",
       "      <th>2</th>\n",
       "      <td>253664</td>\n",
       "      <td>skrn</td>\n",
       "      <td>28891</td>\n",
       "      <td>...</td>\n",
       "      <td>7</td>\n",
       "      <td>{'Overall': '7', 'Story': '7', 'Animation': '9...</td>\n",
       "      <td>https://myanimelist.net/reviews.php?id=253664</td>\n",
       "      <td>0.200</td>\n",
       "      <td>0.050</td>\n",
       "      <td>0.749</td>\n",
       "      <td>0.9871</td>\n",
       "      <td>Positive</td>\n",
       "    </tr>\n",
       "    <tr>\n",
       "      <th>3</th>\n",
       "      <td>8254</td>\n",
       "      <td>edgewalker00</td>\n",
       "      <td>2904</td>\n",
       "      <td>...</td>\n",
       "      <td>9</td>\n",
       "      <td>{'Overall': '9', 'Story': '9', 'Animation': '9...</td>\n",
       "      <td>https://myanimelist.net/reviews.php?id=8254</td>\n",
       "      <td>0.137</td>\n",
       "      <td>0.086</td>\n",
       "      <td>0.777</td>\n",
       "      <td>0.9965</td>\n",
       "      <td>Positive</td>\n",
       "    </tr>\n",
       "    <tr>\n",
       "      <th>4</th>\n",
       "      <td>291149</td>\n",
       "      <td>aManOfCulture99</td>\n",
       "      <td>4181</td>\n",
       "      <td>...</td>\n",
       "      <td>10</td>\n",
       "      <td>{'Overall': '10', 'Story': '10', 'Animation': ...</td>\n",
       "      <td>https://myanimelist.net/reviews.php?id=291149</td>\n",
       "      <td>0.220</td>\n",
       "      <td>0.056</td>\n",
       "      <td>0.724</td>\n",
       "      <td>0.9965</td>\n",
       "      <td>Positive</td>\n",
       "    </tr>\n",
       "  </tbody>\n",
       "</table>\n",
       "</div>"
      ],
      "text/plain": [
       "      uid          profile  anime_uid  \\\n",
       "0  255938   DesolatePsyche      34096   \n",
       "1  259117        baekbeans      34599   \n",
       "2  253664             skrn      28891   \n",
       "3    8254     edgewalker00       2904   \n",
       "4  291149  aManOfCulture99       4181   \n",
       "\n",
       "                                                text  score  \\\n",
       "0                                                ...      8   \n",
       "1                                                ...     10   \n",
       "2                                                ...      7   \n",
       "3                                                ...      9   \n",
       "4                                                ...     10   \n",
       "\n",
       "                                              scores  \\\n",
       "0  {'Overall': '8', 'Story': '8', 'Animation': '8...   \n",
       "1  {'Overall': '10', 'Story': '10', 'Animation': ...   \n",
       "2  {'Overall': '7', 'Story': '7', 'Animation': '9...   \n",
       "3  {'Overall': '9', 'Story': '9', 'Animation': '9...   \n",
       "4  {'Overall': '10', 'Story': '10', 'Animation': ...   \n",
       "\n",
       "                                            link  Positive  Negative  Neutral  \\\n",
       "0  https://myanimelist.net/reviews.php?id=255938     0.218     0.096    0.686   \n",
       "1  https://myanimelist.net/reviews.php?id=259117     0.192     0.083    0.725   \n",
       "2  https://myanimelist.net/reviews.php?id=253664     0.200     0.050    0.749   \n",
       "3    https://myanimelist.net/reviews.php?id=8254     0.137     0.086    0.777   \n",
       "4  https://myanimelist.net/reviews.php?id=291149     0.220     0.056    0.724   \n",
       "\n",
       "   Compound Sentiment  \n",
       "0    0.9984  Positive  \n",
       "1    0.9989  Positive  \n",
       "2    0.9871  Positive  \n",
       "3    0.9965  Positive  \n",
       "4    0.9965  Positive  "
      ]
     },
     "execution_count": 97,
     "metadata": {},
     "output_type": "execute_result"
    }
   ],
   "source": [
    "# We create a new column Sentiment in which if the Compound is greater than 0.05 = positive, less than -0.05 negative otherwise it is neutral\n",
    "\n",
    "score = df[\"Compound\"].values\n",
    "sentiment = []\n",
    "for i in score:\n",
    "    if i >= 0.05 :\n",
    "        sentiment.append('Positive')\n",
    "    elif i <= -0.05 :\n",
    "        sentiment.append('Negative')\n",
    "    else:\n",
    "        sentiment.append('Neutral')\n",
    "df[\"Sentiment\"] = sentiment\n",
    "df.head()"
   ]
  },
  {
   "cell_type": "code",
   "execution_count": 98,
   "id": "90460afd",
   "metadata": {},
   "outputs": [
    {
     "data": {
      "text/plain": [
       "Positive    2792\n",
       "Negative     206\n",
       "Neutral        2\n",
       "Name: Sentiment, dtype: int64"
      ]
     },
     "execution_count": 98,
     "metadata": {},
     "output_type": "execute_result"
    }
   ],
   "source": [
    "# Distribution of data by sentiment\n",
    "\n",
    "df[\"Sentiment\"].value_counts()"
   ]
  },
  {
   "cell_type": "code",
   "execution_count": 99,
   "id": "1c104e53",
   "metadata": {},
   "outputs": [],
   "source": [
    "df.to_csv(\"reviews_animes_labels.csv\")"
   ]
  },
  {
   "cell_type": "markdown",
   "id": "bba3d739",
   "metadata": {},
   "source": [
    "## Train Test Split and Bootstrapping"
   ]
  },
  {
   "cell_type": "code",
   "execution_count": 100,
   "id": "f19dce8d",
   "metadata": {},
   "outputs": [],
   "source": [
    "from sklearn.model_selection import train_test_split\n",
    "train, test = train_test_split(df, test_size=0.3, random_state=1)\n"
   ]
  },
  {
   "cell_type": "markdown",
   "id": "165b9aa6",
   "metadata": {},
   "source": [
    " - As we have seen before, in the distribution of feelings, classes are not balanced, which can cause problems when measuring accuracy because each class will have different base values. A resampling method with replacement is used, called bootstrapping.The smallest classes are oversampled and the remaining positive class is undersampled to 800 samples each."
   ]
  },
  {
   "cell_type": "code",
   "execution_count": 101,
   "id": "116c38ba",
   "metadata": {},
   "outputs": [],
   "source": [
    "t_1 = train[train['Sentiment']=='Neutral'].sample(800,replace=True)\n",
    "t_2 = train[train['Sentiment']=='Positive'].sample(800,replace=True)\n",
    "t_3 = train[train['Sentiment']=='Negative'].sample(800,replace=True)\n",
    "training_bs = pd.concat([t_1, t_2, t_3])"
   ]
  },
  {
   "cell_type": "code",
   "execution_count": 102,
   "id": "3b0f5e8c",
   "metadata": {},
   "outputs": [
    {
     "name": "stdout",
     "output_type": "stream",
     "text": [
      "(2100, 12)\n",
      "(2400, 12)\n",
      "(900, 12)\n"
     ]
    }
   ],
   "source": [
    "print(train.shape)\n",
    "print(training_bs.shape)\n",
    "print(test.shape)"
   ]
  },
  {
   "cell_type": "code",
   "execution_count": 104,
   "id": "6eeca159",
   "metadata": {},
   "outputs": [
    {
     "data": {
      "text/plain": [
       "Positive    1956\n",
       "Negative     143\n",
       "Neutral        1\n",
       "Name: Sentiment, dtype: int64"
      ]
     },
     "execution_count": 104,
     "metadata": {},
     "output_type": "execute_result"
    }
   ],
   "source": [
    "# train distribution\n",
    "\n",
    "train['Sentiment'].value_counts()"
   ]
  },
  {
   "cell_type": "code",
   "execution_count": 105,
   "id": "69dfea2a",
   "metadata": {},
   "outputs": [
    {
     "data": {
      "text/plain": [
       "Positive    836\n",
       "Negative     63\n",
       "Neutral       1\n",
       "Name: Sentiment, dtype: int64"
      ]
     },
     "execution_count": 105,
     "metadata": {},
     "output_type": "execute_result"
    }
   ],
   "source": [
    "# test distribution\n",
    "\n",
    "test['Sentiment'].value_counts()"
   ]
  },
  {
   "cell_type": "code",
   "execution_count": 106,
   "id": "6c242135",
   "metadata": {},
   "outputs": [
    {
     "data": {
      "text/plain": [
       "True"
      ]
     },
     "execution_count": 106,
     "metadata": {},
     "output_type": "execute_result"
    }
   ],
   "source": [
    "df.shape[0] == (train.shape[0] + test.shape[0])"
   ]
  },
  {
   "cell_type": "markdown",
   "id": "fdb8e19f",
   "metadata": {},
   "source": [
    "#### Accuracy\n",
    "The basic accuracy is the proportion of the majority class. Before bootstrapping, the positive sentiment was 93%. After bootstrapping all classes, the prediction accuracy of each class balances out, so the baseline accuracy is 33% for each class."
   ]
  },
  {
   "cell_type": "code",
   "execution_count": 107,
   "id": "aa80239c",
   "metadata": {},
   "outputs": [
    {
     "name": "stdout",
     "output_type": "stream",
     "text": [
      "Positive    0.931429\n",
      "Negative    0.068095\n",
      "Neutral     0.000476\n",
      "Name: Sentiment, dtype: float64\n"
     ]
    }
   ],
   "source": [
    "print(train['Sentiment'].value_counts(normalize=True))\n",
    "baseline = 0.3"
   ]
  },
  {
   "cell_type": "code",
   "execution_count": 108,
   "id": "bf9d8690",
   "metadata": {},
   "outputs": [
    {
     "name": "stdout",
     "output_type": "stream",
     "text": [
      "Neutral     0.333333\n",
      "Positive    0.333333\n",
      "Negative    0.333333\n",
      "Name: Sentiment, dtype: float64\n"
     ]
    }
   ],
   "source": [
    "print (training_bs['Sentiment'].value_counts(normalize=True))\n",
    "baseline = 0.3"
   ]
  },
  {
   "cell_type": "code",
   "execution_count": 110,
   "id": "c5f6e909",
   "metadata": {},
   "outputs": [],
   "source": [
    "# saving the datasets\n",
    "\n",
    "train = training_bs.reset_index(drop=True)\n",
    "train.to_csv('train.csv', header=True, index=False, encoding='UTF8')\n",
    "training_bs = training_bs.reset_index(drop=True)\n",
    "training_bs.to_csv('training_bs.csv', header=True, index=False, encoding='UTF8')\n",
    "test = test.reset_index(drop=True)\n",
    "test.to_csv('testing.csv', header=True, index=False, encoding='UTF8')"
   ]
  },
  {
   "cell_type": "code",
   "execution_count": 111,
   "id": "248218ef",
   "metadata": {},
   "outputs": [],
   "source": [
    "training_bs = pd.read_csv('training_bs.csv')\n",
    "test = pd.read_csv('testing.csv')"
   ]
  },
  {
   "cell_type": "code",
   "execution_count": 112,
   "id": "a2f208a2",
   "metadata": {},
   "outputs": [],
   "source": [
    "# Define Class Integer Values\n",
    "cleanup_nums = {\"Sentiment\": {\"Negative\": 1, \"Neutral\": 2, \"Positive\": 3}}\n",
    "\n",
    "# Replace the Classes with Integer Values\n",
    "training_bs.replace(cleanup_nums, inplace=True)\n",
    "\n",
    "# Clean the Test Data\n",
    "test.replace(cleanup_nums, inplace=True)"
   ]
  },
  {
   "cell_type": "code",
   "execution_count": 122,
   "id": "60f232a7",
   "metadata": {},
   "outputs": [
    {
     "data": {
      "text/plain": [
       "Text(0, 0.5, 'Labels')"
      ]
     },
     "execution_count": 122,
     "metadata": {},
     "output_type": "execute_result"
    },
    {
     "data": {
      "image/png": "[encoded data removed]",
      "text/plain": [
       "<Figure size 432x288 with 1 Axes>"
      ]
     },
     "metadata": {},
     "output_type": "display_data"
    }
   ],
   "source": [
    "# Distribution of feelings in the \"bootstrapped\" training dataset\n",
    "\n",
    "sns.set_theme(style=\"white\")\n",
    "ax = training_bs['Sentiment'].value_counts(sort=False).plot(kind='barh', color='r')\n",
    "ax.set_xlabel('Count')\n",
    "ax.set_ylabel('Labels')"
   ]
  },
  {
   "cell_type": "code",
   "execution_count": 123,
   "id": "f391bf88",
   "metadata": {},
   "outputs": [
    {
     "data": {
      "text/plain": [
       "Text(0, 0.5, 'Labels')"
      ]
     },
     "execution_count": 123,
     "metadata": {},
     "output_type": "execute_result"
    },
    {
     "data": {
      "image/png": "[encoded data removed]",
      "text/plain": [
       "<Figure size 432x288 with 1 Axes>"
      ]
     },
     "metadata": {},
     "output_type": "display_data"
    }
   ],
   "source": [
    "# Distribution of feelings in the non-bootstaped training dataset\n",
    "\n",
    "sns.set_theme(style=\"whitegrid\")\n",
    "ax = train['Sentiment'].value_counts(sort=False).plot(kind='barh', color='b')\n",
    "ax.set_xlabel('Count')\n",
    "ax.set_ylabel('Labels')"
   ]
  },
  {
   "cell_type": "markdown",
   "id": "9048c588",
   "metadata": {},
   "source": [
    "### Naive Bayes Model\n",
    " \n",
    " - The algorithm calculates the probability of each word for a sequence of text and calculates the one with the highest score. For example, the probabilities of the words \"like\" and \"good\" appearing in the texts of the category \"positive feeling\" are higher than the probabilities of the categories \"negative\" or \"neutral\". In this way, the model predicts the probability that unknown text containing these words will be associated with either category."
   ]
  },
  {
   "cell_type": "code",
   "execution_count": 124,
   "id": "33041f7d",
   "metadata": {},
   "outputs": [],
   "source": [
    "from sklearn.pipeline import Pipeline\n",
    "from sklearn.feature_extraction.text import CountVectorizer, TfidfTransformer\n",
    "from sklearn.naive_bayes import MultinomialNB\n",
    "\n",
    "# Create a pipeline which transforms phrases into normalized feature vectors and uses a bayes estimator\n",
    "model_name = 'bayes classifier'"
   ]
  },
  {
   "cell_type": "code",
   "execution_count": 128,
   "id": "e383b368",
   "metadata": {},
   "outputs": [],
   "source": [
    "pipeline_bayes = Pipeline([\n",
    "                ('count', CountVectorizer()),\n",
    "# The vectorize counts the number of words in each text sequence and creates the word patterns\n",
    "                ('tfidf', TfidfTransformer()),\n",
    "# Reduces the impact of words that appear very often in training data\n",
    "                ('gnb', MultinomialNB()),\n",
    "                ])\n",
    "\n",
    "# Train model using the created sklearn pipeline\n",
    "\n",
    "model_bayes = pipeline_bayes.fit(training_bs['text'], training_bs['Sentiment'])"
   ]
  },
  {
   "cell_type": "code",
   "execution_count": 130,
   "id": "6d0423a9",
   "metadata": {},
   "outputs": [
    {
     "name": "stdout",
     "output_type": "stream",
     "text": [
      "Mondays just suck!-> Negative\n",
      "I love this product-> Positive\n",
      "That is a tree-> Positive\n",
      "Terrible service-> Negative\n"
     ]
    }
   ],
   "source": [
    "testphrases = ['Mondays just suck!', 'I love this product', 'That is a tree', 'Terrible service']\n",
    "for testphrase in testphrases:\n",
    "    resultx = model_bayes.predict([testphrase]) # use model_bayes for predictions with the other model\n",
    "    dict = {1: 'Negative', 2: 'Neutral', 3: 'Positive'}\n",
    "    print(testphrase + '-> ' + dict[resultx[0]])"
   ]
  },
  {
   "cell_type": "code",
   "execution_count": 131,
   "id": "8346fa2e",
   "metadata": {},
   "outputs": [
    {
     "name": "stdout",
     "output_type": "stream",
     "text": [
      "Positive\n"
     ]
    }
   ],
   "source": [
    "dict = {1: 'Negative', 2: 'Neutral', 3: 'Positive'}\n",
    "testphrase = \"Anyhow. What I have always loved regarding Gintama, is its content of everything. I love the comedy, its absurd, random, can be vile, dirty, sweet, anyhow, everything. Have laughed countless times in this franchise. Also the humor they have also is heavily reference based, a.k.a parodies of different anime, shows, manga, live stuff, real world, anime production and so on. Anyhow, comedy/parody side of this franchise i absolutely love.  Now, 2nd side of this show is the serious dramas, epic battle shounens and so on.. There are arcs that are fully comedy, arcs that are fully serious and mixtures of both. Serious side is usually quite dramatic and managed to somewhat tear me up now and then. Whilst the action sequences are absolute bliss as well. They are just presented in a really cool manner. And extra points when sometime the add artistic element.  Of course it has its slice-of-life side and pseudo-romance. Those are weaker side, but ain't the focus. But when sometimes those are the 'focus', then they are done in enjoyable method.  To sum up overall gintama's, I love the serious side and the silly side.  Art and sound  is something I loved in all gintamas across the board. They just click with me, bliss to look at, bliss to hear. Music  specifically are hyped up and upbeat, which generally I don't like, but gintama is the exception where I love them. Art is cool, sometimes artistic, sometimes simple. It has a bit of everything that makes it enjoyable. And gore is absolutely satisfying as well.   Well, the serious side of stories in this anime are superb in my opinion. . But wouldn't say comedic side of series story is any worse.  When at times comedy side has 'story'. It's usually quite enjoyable.  Regarding characters I don't have much to say other than that variety, stereotypes of 'off-stereotypes' is very large. As well characters with depth but as well with oddity is as well in great selection. Main team. Gintoki the lazy dirty slob with superb second side of seriousness and caring about friends/allies. Shinpachi the poor straight-man-act sidekick, who adds great value to the team. Kagura, the battle race girl that doesn't act like girl almost at all, or in another words a dirty slob girl in a sense. -----------------  Now, to this season specific.  I found it a bit disappointing. Mainly because usually in gintama we have overly serious arcs or fully comedic, whilst this one had a bit of mixture of both, which somewhat ruined the experience. Plus the artistic presentation felt this time around a bit lacking. Maybe because of another studio, who knows. But anyhow, it didn't feel as superb. Rather than gintama it felt as watching just another good battle shounen anime in modern day with simplified animation.  I mean it definitely was not any bad, just didn't have the punch Gintama usually has. Might be because it was short series, maybe because it focused too much moving on with story. It'll be shame to see it finalized in this manner.  Rest I pretty much loved as usual in Gintama franchise.\"\n",
    "r = model_bayes.predict([testphrase])\n",
    "print(dict[r[0]])"
   ]
  },
  {
   "cell_type": "markdown",
   "id": "5930ae67",
   "metadata": {},
   "source": [
    "###  Logistic Regression\n",
    "\n",
    " - This approach will divide our three-class prediction problem into two two-class problems. Our model differentiates between one class and all other classes in the first step. Then, all observations that do not fall into the first class enter a second model that predicts whether it is class two or three."
   ]
  },
  {
   "cell_type": "code",
   "execution_count": 133,
   "id": "aebd9a84",
   "metadata": {},
   "outputs": [],
   "source": [
    "from sklearn.linear_model import LogisticRegression\n",
    "# Create a transformation pipeline\n",
    "# The pipeline sequentially applies a list of transforms and as a final estimator logistic regression \n",
    "pipeline_log = Pipeline([\n",
    "                ('count', CountVectorizer()), \n",
    "                ('tfidf', TfidfTransformer()),\n",
    "                ('clf', LogisticRegression(solver='liblinear', multi_class='auto')),\n",
    "        ])\n",
    "\n",
    "# Train model using the created sklearn pipeline\n",
    "model_name = 'logistic regression classifier'\n",
    "model_lgr = pipeline_log.fit(training_bs['text'], training_bs['Sentiment'])"
   ]
  },
  {
   "cell_type": "code",
   "execution_count": 134,
   "id": "2eedc02a",
   "metadata": {},
   "outputs": [
    {
     "name": "stdout",
     "output_type": "stream",
     "text": [
      "Mondays just suck!-> Positive\n",
      "I love this product-> Positive\n",
      "That is a tree-> Positive\n",
      "Terrible service-> Positive\n"
     ]
    }
   ],
   "source": [
    "testphrases = ['Mondays just suck!', 'I love this product', 'That is a tree', 'Terrible service']\n",
    "for testphrase in testphrases:\n",
    "    resultx = model_lgr.predict([testphrase]) # use model_bayes for predictions with the other model\n",
    "    dict = {1: 'Negative', 2: 'Neutral', 3: 'Positive'}\n",
    "    print(testphrase + '-> ' + dict[resultx[0]])"
   ]
  },
  {
   "cell_type": "code",
   "execution_count": 135,
   "id": "215c0a8b",
   "metadata": {},
   "outputs": [
    {
     "name": "stdout",
     "output_type": "stream",
     "text": [
      "Positive\n"
     ]
    }
   ],
   "source": [
    "dict = {1: 'Negative', 2: 'Neutral', 3: 'Positive'}\n",
    "testphrase = \"Anyhow. What I have always loved regarding Gintama, is its content of everything. I love the comedy, its absurd, random, can be vile, dirty, sweet, anyhow, everything. Have laughed countless times in this franchise. Also the humor they have also is heavily reference based, a.k.a parodies of different anime, shows, manga, live stuff, real world, anime production and so on. Anyhow, comedy/parody side of this franchise i absolutely love.  Now, 2nd side of this show is the serious dramas, epic battle shounens and so on.. There are arcs that are fully comedy, arcs that are fully serious and mixtures of both. Serious side is usually quite dramatic and managed to somewhat tear me up now and then. Whilst the action sequences are absolute bliss as well. They are just presented in a really cool manner. And extra points when sometime the add artistic element.  Of course it has its slice-of-life side and pseudo-romance. Those are weaker side, but ain't the focus. But when sometimes those are the 'focus', then they are done in enjoyable method.  To sum up overall gintama's, I love the serious side and the silly side.  Art and sound  is something I loved in all gintamas across the board. They just click with me, bliss to look at, bliss to hear. Music  specifically are hyped up and upbeat, which generally I don't like, but gintama is the exception where I love them. Art is cool, sometimes artistic, sometimes simple. It has a bit of everything that makes it enjoyable. And gore is absolutely satisfying as well.   Well, the serious side of stories in this anime are superb in my opinion. . But wouldn't say comedic side of series story is any worse.  When at times comedy side has 'story'. It's usually quite enjoyable.  Regarding characters I don't have much to say other than that variety, stereotypes of 'off-stereotypes' is very large. As well characters with depth but as well with oddity is as well in great selection. Main team. Gintoki the lazy dirty slob with superb second side of seriousness and caring about friends/allies. Shinpachi the poor straight-man-act sidekick, who adds great value to the team. Kagura, the battle race girl that doesn't act like girl almost at all, or in another words a dirty slob girl in a sense. -----------------  Now, to this season specific.  I found it a bit disappointing. Mainly because usually in gintama we have overly serious arcs or fully comedic, whilst this one had a bit of mixture of both, which somewhat ruined the experience. Plus the artistic presentation felt this time around a bit lacking. Maybe because of another studio, who knows. But anyhow, it didn't feel as superb. Rather than gintama it felt as watching just another good battle shounen anime in modern day with simplified animation.  I mean it definitely was not any bad, just didn't have the punch Gintama usually has. Might be because it was short series, maybe because it focused too much moving on with story. It'll be shame to see it finalized in this manner.  Rest I pretty much loved as usual in Gintama franchise.\"\n",
    "r = model_lgr.predict([testphrase])\n",
    "print(dict[r[0]])"
   ]
  },
  {
   "cell_type": "markdown",
   "id": "3b0d22d4",
   "metadata": {},
   "source": [
    "#### Testing with the base train model"
   ]
  },
  {
   "cell_type": "code",
   "execution_count": 136,
   "id": "76e1e214",
   "metadata": {},
   "outputs": [
    {
     "data": {
      "text/html": [
       "<div>\n",
       "<style scoped>\n",
       "    .dataframe tbody tr th:only-of-type {\n",
       "        vertical-align: middle;\n",
       "    }\n",
       "\n",
       "    .dataframe tbody tr th {\n",
       "        vertical-align: top;\n",
       "    }\n",
       "\n",
       "    .dataframe thead th {\n",
       "        text-align: right;\n",
       "    }\n",
       "</style>\n",
       "<table border=\"1\" class=\"dataframe\">\n",
       "  <thead>\n",
       "    <tr style=\"text-align: right;\">\n",
       "      <th></th>\n",
       "      <th>uid</th>\n",
       "      <th>profile</th>\n",
       "      <th>anime_uid</th>\n",
       "      <th>text</th>\n",
       "      <th>score</th>\n",
       "      <th>scores</th>\n",
       "      <th>link</th>\n",
       "      <th>Positive</th>\n",
       "      <th>Negative</th>\n",
       "      <th>Neutral</th>\n",
       "      <th>Compound</th>\n",
       "      <th>Sentiment</th>\n",
       "    </tr>\n",
       "  </thead>\n",
       "  <tbody>\n",
       "    <tr>\n",
       "      <th>0</th>\n",
       "      <td>221311</td>\n",
       "      <td>AniimeFreak</td>\n",
       "      <td>202</td>\n",
       "      <td>...</td>\n",
       "      <td>4</td>\n",
       "      <td>{'Overall': '4', 'Story': '4', 'Animation': '5...</td>\n",
       "      <td>https://myanimelist.net/reviews.php?id=221311</td>\n",
       "      <td>0.145</td>\n",
       "      <td>0.159</td>\n",
       "      <td>0.697</td>\n",
       "      <td>-0.0429</td>\n",
       "      <td>2</td>\n",
       "    </tr>\n",
       "    <tr>\n",
       "      <th>1</th>\n",
       "      <td>221311</td>\n",
       "      <td>AniimeFreak</td>\n",
       "      <td>202</td>\n",
       "      <td>...</td>\n",
       "      <td>4</td>\n",
       "      <td>{'Overall': '4', 'Story': '4', 'Animation': '5...</td>\n",
       "      <td>https://myanimelist.net/reviews.php?id=221311</td>\n",
       "      <td>0.145</td>\n",
       "      <td>0.159</td>\n",
       "      <td>0.697</td>\n",
       "      <td>-0.0429</td>\n",
       "      <td>2</td>\n",
       "    </tr>\n",
       "    <tr>\n",
       "      <th>2</th>\n",
       "      <td>221311</td>\n",
       "      <td>AniimeFreak</td>\n",
       "      <td>202</td>\n",
       "      <td>...</td>\n",
       "      <td>4</td>\n",
       "      <td>{'Overall': '4', 'Story': '4', 'Animation': '5...</td>\n",
       "      <td>https://myanimelist.net/reviews.php?id=221311</td>\n",
       "      <td>0.145</td>\n",
       "      <td>0.159</td>\n",
       "      <td>0.697</td>\n",
       "      <td>-0.0429</td>\n",
       "      <td>2</td>\n",
       "    </tr>\n",
       "    <tr>\n",
       "      <th>3</th>\n",
       "      <td>221311</td>\n",
       "      <td>AniimeFreak</td>\n",
       "      <td>202</td>\n",
       "      <td>...</td>\n",
       "      <td>4</td>\n",
       "      <td>{'Overall': '4', 'Story': '4', 'Animation': '5...</td>\n",
       "      <td>https://myanimelist.net/reviews.php?id=221311</td>\n",
       "      <td>0.145</td>\n",
       "      <td>0.159</td>\n",
       "      <td>0.697</td>\n",
       "      <td>-0.0429</td>\n",
       "      <td>2</td>\n",
       "    </tr>\n",
       "    <tr>\n",
       "      <th>4</th>\n",
       "      <td>221311</td>\n",
       "      <td>AniimeFreak</td>\n",
       "      <td>202</td>\n",
       "      <td>...</td>\n",
       "      <td>4</td>\n",
       "      <td>{'Overall': '4', 'Story': '4', 'Animation': '5...</td>\n",
       "      <td>https://myanimelist.net/reviews.php?id=221311</td>\n",
       "      <td>0.145</td>\n",
       "      <td>0.159</td>\n",
       "      <td>0.697</td>\n",
       "      <td>-0.0429</td>\n",
       "      <td>2</td>\n",
       "    </tr>\n",
       "  </tbody>\n",
       "</table>\n",
       "</div>"
      ],
      "text/plain": [
       "      uid      profile  anime_uid  \\\n",
       "0  221311  AniimeFreak        202   \n",
       "1  221311  AniimeFreak        202   \n",
       "2  221311  AniimeFreak        202   \n",
       "3  221311  AniimeFreak        202   \n",
       "4  221311  AniimeFreak        202   \n",
       "\n",
       "                                                text  score  \\\n",
       "0                                                ...      4   \n",
       "1                                                ...      4   \n",
       "2                                                ...      4   \n",
       "3                                                ...      4   \n",
       "4                                                ...      4   \n",
       "\n",
       "                                              scores  \\\n",
       "0  {'Overall': '4', 'Story': '4', 'Animation': '5...   \n",
       "1  {'Overall': '4', 'Story': '4', 'Animation': '5...   \n",
       "2  {'Overall': '4', 'Story': '4', 'Animation': '5...   \n",
       "3  {'Overall': '4', 'Story': '4', 'Animation': '5...   \n",
       "4  {'Overall': '4', 'Story': '4', 'Animation': '5...   \n",
       "\n",
       "                                            link  Positive  Negative  Neutral  \\\n",
       "0  https://myanimelist.net/reviews.php?id=221311     0.145     0.159    0.697   \n",
       "1  https://myanimelist.net/reviews.php?id=221311     0.145     0.159    0.697   \n",
       "2  https://myanimelist.net/reviews.php?id=221311     0.145     0.159    0.697   \n",
       "3  https://myanimelist.net/reviews.php?id=221311     0.145     0.159    0.697   \n",
       "4  https://myanimelist.net/reviews.php?id=221311     0.145     0.159    0.697   \n",
       "\n",
       "   Compound  Sentiment  \n",
       "0   -0.0429          2  \n",
       "1   -0.0429          2  \n",
       "2   -0.0429          2  \n",
       "3   -0.0429          2  \n",
       "4   -0.0429          2  "
      ]
     },
     "execution_count": 136,
     "metadata": {},
     "output_type": "execute_result"
    }
   ],
   "source": [
    "# Replace the Classes with Integer Values\n",
    "\n",
    "train.replace(cleanup_nums, inplace=True)\n",
    "train.head()"
   ]
  },
  {
   "cell_type": "code",
   "execution_count": 138,
   "id": "5c2b9f42",
   "metadata": {},
   "outputs": [],
   "source": [
    "# Create a pipeline which transforms phrases into normalized feature vectors and uses a bayes estimator\n",
    "model_name = 'bayes classifier train dataset'\n",
    "\n",
    "pipeline_bayes = Pipeline([\n",
    "                ('count', CountVectorizer()),\n",
    "                ('tfidf', TfidfTransformer()),\n",
    "                ('gnb', MultinomialNB()),\n",
    "                ])\n",
    "\n",
    "# Train model using the created sklearn pipeline\n",
    "model_bayes_train = pipeline_bayes.fit(train['text'], train['Sentiment'])"
   ]
  },
  {
   "cell_type": "code",
   "execution_count": 139,
   "id": "ded7c112",
   "metadata": {},
   "outputs": [
    {
     "name": "stdout",
     "output_type": "stream",
     "text": [
      "Mondays just suck!-> Negative\n",
      "I love this product-> Positive\n",
      "That is a tree-> Positive\n",
      "Terrible service-> Negative\n"
     ]
    }
   ],
   "source": [
    "testphrases = ['Mondays just suck!', 'I love this product', 'That is a tree', 'Terrible service']\n",
    "for testphrase in testphrases:\n",
    "    resultx = model_bayes_train.predict([testphrase]) # use model_bayes for predictions with the other model\n",
    "    dict = {1: 'Negative', 2: 'Neutral', 3: 'Positive'}\n",
    "    print(testphrase + '-> ' + dict[resultx[0]])"
   ]
  },
  {
   "cell_type": "markdown",
   "id": "2fa23839",
   "metadata": {},
   "source": [
    "### Model Performance Evaluation"
   ]
  },
  {
   "cell_type": "code",
   "execution_count": 141,
   "id": "3e654474",
   "metadata": {},
   "outputs": [
    {
     "name": "stdout",
     "output_type": "stream",
     "text": [
      "              precision    recall  f1-score     support\n",
      "negative       0.237500  0.603175  0.340807   63.000000\n",
      "neutral        0.000000  0.000000  0.000000    1.000000\n",
      "positive       0.964865  0.854067  0.906091  836.000000\n",
      "accuracy       0.835556  0.835556  0.835556    0.835556\n",
      "macro avg      0.400788  0.485747  0.415633  900.000000\n",
      "weighted avg   0.912877  0.835556  0.865515  900.000000\n"
     ]
    },
    {
     "name": "stderr",
     "output_type": "stream",
     "text": [
      "C:\\Users\\nikau\\anaconda3\\lib\\site-packages\\sklearn\\metrics\\_classification.py:1334: UndefinedMetricWarning: Precision and F-score are ill-defined and being set to 0.0 in labels with no predicted samples. Use `zero_division` parameter to control this behavior.\n",
      "  _warn_prf(average, modifier, msg_start, len(result))\n",
      "C:\\Users\\nikau\\anaconda3\\lib\\site-packages\\sklearn\\metrics\\_classification.py:1334: UndefinedMetricWarning: Precision and F-score are ill-defined and being set to 0.0 in labels with no predicted samples. Use `zero_division` parameter to control this behavior.\n",
      "  _warn_prf(average, modifier, msg_start, len(result))\n",
      "C:\\Users\\nikau\\anaconda3\\lib\\site-packages\\sklearn\\metrics\\_classification.py:1334: UndefinedMetricWarning: Precision and F-score are ill-defined and being set to 0.0 in labels with no predicted samples. Use `zero_division` parameter to control this behavior.\n",
      "  _warn_prf(average, modifier, msg_start, len(result))\n"
     ]
    }
   ],
   "source": [
    "# Naive Bayes\n",
    "\n",
    "from sklearn.metrics import classification_report\n",
    "\n",
    "# Predict class labels using the learner function\n",
    "test['pred'] = model_bayes.predict(test['text'])\n",
    "y_true = test['Sentiment']\n",
    "y_pred = test['pred']\n",
    "target_names = ['negative', 'neutral', 'positive']\n",
    "\n",
    "results_log = classification_report(y_true, y_pred, target_names=target_names, output_dict=True)\n",
    "results_df_log = pd.DataFrame(results_log).transpose()\n",
    "print(results_df_log)"
   ]
  },
  {
   "cell_type": "code",
   "execution_count": 143,
   "id": "8f0f3a37",
   "metadata": {},
   "outputs": [
    {
     "name": "stdout",
     "output_type": "stream",
     "text": [
      "              precision    recall  f1-score     support\n",
      "negative       0.275862  0.507937  0.357542   63.000000\n",
      "neutral        0.000000  0.000000  0.000000    1.000000\n",
      "positive       0.960459  0.900718  0.929630  836.000000\n",
      "accuracy       0.872222  0.872222  0.872222    0.872222\n",
      "macro avg      0.412107  0.469551  0.429057  900.000000\n",
      "weighted avg   0.911470  0.872222  0.888551  900.000000\n"
     ]
    },
    {
     "name": "stderr",
     "output_type": "stream",
     "text": [
      "C:\\Users\\nikau\\anaconda3\\lib\\site-packages\\sklearn\\metrics\\_classification.py:1334: UndefinedMetricWarning: Precision and F-score are ill-defined and being set to 0.0 in labels with no predicted samples. Use `zero_division` parameter to control this behavior.\n",
      "  _warn_prf(average, modifier, msg_start, len(result))\n",
      "C:\\Users\\nikau\\anaconda3\\lib\\site-packages\\sklearn\\metrics\\_classification.py:1334: UndefinedMetricWarning: Precision and F-score are ill-defined and being set to 0.0 in labels with no predicted samples. Use `zero_division` parameter to control this behavior.\n",
      "  _warn_prf(average, modifier, msg_start, len(result))\n",
      "C:\\Users\\nikau\\anaconda3\\lib\\site-packages\\sklearn\\metrics\\_classification.py:1334: UndefinedMetricWarning: Precision and F-score are ill-defined and being set to 0.0 in labels with no predicted samples. Use `zero_division` parameter to control this behavior.\n",
      "  _warn_prf(average, modifier, msg_start, len(result))\n"
     ]
    }
   ],
   "source": [
    "# Logistic Regression\n",
    "\n",
    "# Predict class labels using the learner function\n",
    "test['pred'] = model_lgr.predict(test['text'])\n",
    "y_true = test['Sentiment']\n",
    "y_pred = test['pred']\n",
    "target_names = ['negative', 'neutral', 'positive']\n",
    "\n",
    "results_log = classification_report(y_true, y_pred, target_names=target_names, output_dict=True)\n",
    "results_df_log = pd.DataFrame(results_log).transpose()\n",
    "print(results_df_log)"
   ]
  },
  {
   "cell_type": "code",
   "execution_count": 146,
   "id": "00f18449",
   "metadata": {},
   "outputs": [
    {
     "data": {
      "text/html": [
       "<div>\n",
       "<style scoped>\n",
       "    .dataframe tbody tr th:only-of-type {\n",
       "        vertical-align: middle;\n",
       "    }\n",
       "\n",
       "    .dataframe tbody tr th {\n",
       "        vertical-align: top;\n",
       "    }\n",
       "\n",
       "    .dataframe thead th {\n",
       "        text-align: right;\n",
       "    }\n",
       "</style>\n",
       "<table border=\"1\" class=\"dataframe\">\n",
       "  <thead>\n",
       "    <tr style=\"text-align: right;\">\n",
       "      <th></th>\n",
       "      <th>uid</th>\n",
       "      <th>profile</th>\n",
       "      <th>anime_uid</th>\n",
       "      <th>text</th>\n",
       "      <th>score</th>\n",
       "      <th>scores</th>\n",
       "      <th>link</th>\n",
       "      <th>Positive</th>\n",
       "      <th>Negative</th>\n",
       "      <th>Neutral</th>\n",
       "      <th>Compound</th>\n",
       "      <th>Sentiment</th>\n",
       "      <th>pred</th>\n",
       "    </tr>\n",
       "  </thead>\n",
       "  <tbody>\n",
       "    <tr>\n",
       "      <th>0</th>\n",
       "      <td>159933</td>\n",
       "      <td>The_Goodsman</td>\n",
       "      <td>11887</td>\n",
       "      <td>...</td>\n",
       "      <td>8</td>\n",
       "      <td>{'Overall': '8', 'Story': '9', 'Animation': '8...</td>\n",
       "      <td>https://myanimelist.net/reviews.php?id=159933</td>\n",
       "      <td>0.155</td>\n",
       "      <td>0.043</td>\n",
       "      <td>0.801</td>\n",
       "      <td>0.9986</td>\n",
       "      <td>3</td>\n",
       "      <td>3</td>\n",
       "    </tr>\n",
       "    <tr>\n",
       "      <th>1</th>\n",
       "      <td>325086</td>\n",
       "      <td>Horn_dawg_2019</td>\n",
       "      <td>39597</td>\n",
       "      <td>...</td>\n",
       "      <td>5</td>\n",
       "      <td>{'Overall': '5', 'Story': '7', 'Animation': '7...</td>\n",
       "      <td>https://myanimelist.net/reviews.php?id=325086</td>\n",
       "      <td>0.088</td>\n",
       "      <td>0.056</td>\n",
       "      <td>0.856</td>\n",
       "      <td>0.9020</td>\n",
       "      <td>3</td>\n",
       "      <td>1</td>\n",
       "    </tr>\n",
       "    <tr>\n",
       "      <th>2</th>\n",
       "      <td>205310</td>\n",
       "      <td>toodaloola</td>\n",
       "      <td>28999</td>\n",
       "      <td>...</td>\n",
       "      <td>6</td>\n",
       "      <td>{'Overall': '6', 'Story': '6', 'Animation': '8...</td>\n",
       "      <td>https://myanimelist.net/reviews.php?id=205310</td>\n",
       "      <td>0.167</td>\n",
       "      <td>0.129</td>\n",
       "      <td>0.703</td>\n",
       "      <td>0.9951</td>\n",
       "      <td>3</td>\n",
       "      <td>3</td>\n",
       "    </tr>\n",
       "    <tr>\n",
       "      <th>3</th>\n",
       "      <td>281105</td>\n",
       "      <td>Kannadin</td>\n",
       "      <td>35860</td>\n",
       "      <td>...</td>\n",
       "      <td>5</td>\n",
       "      <td>{'Overall': '5', 'Story': '4', 'Animation': '7...</td>\n",
       "      <td>https://myanimelist.net/reviews.php?id=281105</td>\n",
       "      <td>0.174</td>\n",
       "      <td>0.123</td>\n",
       "      <td>0.702</td>\n",
       "      <td>0.9962</td>\n",
       "      <td>3</td>\n",
       "      <td>3</td>\n",
       "    </tr>\n",
       "    <tr>\n",
       "      <th>4</th>\n",
       "      <td>225527</td>\n",
       "      <td>TheMKninjaYT</td>\n",
       "      <td>30123</td>\n",
       "      <td>...</td>\n",
       "      <td>10</td>\n",
       "      <td>{'Overall': '10', 'Story': '7', 'Animation': '...</td>\n",
       "      <td>https://myanimelist.net/reviews.php?id=225527</td>\n",
       "      <td>0.340</td>\n",
       "      <td>0.043</td>\n",
       "      <td>0.617</td>\n",
       "      <td>0.9996</td>\n",
       "      <td>3</td>\n",
       "      <td>3</td>\n",
       "    </tr>\n",
       "    <tr>\n",
       "      <th>...</th>\n",
       "      <td>...</td>\n",
       "      <td>...</td>\n",
       "      <td>...</td>\n",
       "      <td>...</td>\n",
       "      <td>...</td>\n",
       "      <td>...</td>\n",
       "      <td>...</td>\n",
       "      <td>...</td>\n",
       "      <td>...</td>\n",
       "      <td>...</td>\n",
       "      <td>...</td>\n",
       "      <td>...</td>\n",
       "      <td>...</td>\n",
       "    </tr>\n",
       "    <tr>\n",
       "      <th>895</th>\n",
       "      <td>291340</td>\n",
       "      <td>SPILTMILQ</td>\n",
       "      <td>5630</td>\n",
       "      <td>...</td>\n",
       "      <td>10</td>\n",
       "      <td>{'Overall': '10', 'Story': '10', 'Animation': ...</td>\n",
       "      <td>https://myanimelist.net/reviews.php?id=291340</td>\n",
       "      <td>0.261</td>\n",
       "      <td>0.037</td>\n",
       "      <td>0.703</td>\n",
       "      <td>0.9942</td>\n",
       "      <td>3</td>\n",
       "      <td>3</td>\n",
       "    </tr>\n",
       "    <tr>\n",
       "      <th>896</th>\n",
       "      <td>63241</td>\n",
       "      <td>Xavirne</td>\n",
       "      <td>552</td>\n",
       "      <td>...</td>\n",
       "      <td>9</td>\n",
       "      <td>{'Overall': '9', 'Story': '9', 'Animation': '8...</td>\n",
       "      <td>https://myanimelist.net/reviews.php?id=63241</td>\n",
       "      <td>0.341</td>\n",
       "      <td>0.049</td>\n",
       "      <td>0.610</td>\n",
       "      <td>0.9926</td>\n",
       "      <td>3</td>\n",
       "      <td>3</td>\n",
       "    </tr>\n",
       "    <tr>\n",
       "      <th>897</th>\n",
       "      <td>320191</td>\n",
       "      <td>Krunchyman</td>\n",
       "      <td>36369</td>\n",
       "      <td>...</td>\n",
       "      <td>5</td>\n",
       "      <td>{'Overall': '5', 'Story': '5', 'Animation': '5...</td>\n",
       "      <td>https://myanimelist.net/reviews.php?id=320191</td>\n",
       "      <td>0.198</td>\n",
       "      <td>0.063</td>\n",
       "      <td>0.739</td>\n",
       "      <td>0.9957</td>\n",
       "      <td>3</td>\n",
       "      <td>3</td>\n",
       "    </tr>\n",
       "    <tr>\n",
       "      <th>898</th>\n",
       "      <td>16006</td>\n",
       "      <td>shinigamiallie</td>\n",
       "      <td>5630</td>\n",
       "      <td>...</td>\n",
       "      <td>10</td>\n",
       "      <td>{'Overall': '10', 'Story': '10', 'Animation': ...</td>\n",
       "      <td>https://myanimelist.net/reviews.php?id=16006</td>\n",
       "      <td>0.251</td>\n",
       "      <td>0.023</td>\n",
       "      <td>0.726</td>\n",
       "      <td>0.9971</td>\n",
       "      <td>3</td>\n",
       "      <td>3</td>\n",
       "    </tr>\n",
       "    <tr>\n",
       "      <th>899</th>\n",
       "      <td>104835</td>\n",
       "      <td>albinochocolate</td>\n",
       "      <td>12403</td>\n",
       "      <td>...</td>\n",
       "      <td>9</td>\n",
       "      <td>{'Overall': '9', 'Story': '0', 'Animation': '0...</td>\n",
       "      <td>https://myanimelist.net/reviews.php?id=104835</td>\n",
       "      <td>0.273</td>\n",
       "      <td>0.052</td>\n",
       "      <td>0.675</td>\n",
       "      <td>0.9999</td>\n",
       "      <td>3</td>\n",
       "      <td>3</td>\n",
       "    </tr>\n",
       "  </tbody>\n",
       "</table>\n",
       "<p>900 rows × 13 columns</p>\n",
       "</div>"
      ],
      "text/plain": [
       "        uid          profile  anime_uid  \\\n",
       "0    159933     The_Goodsman      11887   \n",
       "1    325086   Horn_dawg_2019      39597   \n",
       "2    205310       toodaloola      28999   \n",
       "3    281105         Kannadin      35860   \n",
       "4    225527     TheMKninjaYT      30123   \n",
       "..      ...              ...        ...   \n",
       "895  291340        SPILTMILQ       5630   \n",
       "896   63241          Xavirne        552   \n",
       "897  320191       Krunchyman      36369   \n",
       "898   16006   shinigamiallie       5630   \n",
       "899  104835  albinochocolate      12403   \n",
       "\n",
       "                                                  text  score  \\\n",
       "0                                                  ...      8   \n",
       "1                                                  ...      5   \n",
       "2                                                  ...      6   \n",
       "3                                                  ...      5   \n",
       "4                                                  ...     10   \n",
       "..                                                 ...    ...   \n",
       "895                                                ...     10   \n",
       "896                                                ...      9   \n",
       "897                                                ...      5   \n",
       "898                                                ...     10   \n",
       "899                                                ...      9   \n",
       "\n",
       "                                                scores  \\\n",
       "0    {'Overall': '8', 'Story': '9', 'Animation': '8...   \n",
       "1    {'Overall': '5', 'Story': '7', 'Animation': '7...   \n",
       "2    {'Overall': '6', 'Story': '6', 'Animation': '8...   \n",
       "3    {'Overall': '5', 'Story': '4', 'Animation': '7...   \n",
       "4    {'Overall': '10', 'Story': '7', 'Animation': '...   \n",
       "..                                                 ...   \n",
       "895  {'Overall': '10', 'Story': '10', 'Animation': ...   \n",
       "896  {'Overall': '9', 'Story': '9', 'Animation': '8...   \n",
       "897  {'Overall': '5', 'Story': '5', 'Animation': '5...   \n",
       "898  {'Overall': '10', 'Story': '10', 'Animation': ...   \n",
       "899  {'Overall': '9', 'Story': '0', 'Animation': '0...   \n",
       "\n",
       "                                              link  Positive  Negative  \\\n",
       "0    https://myanimelist.net/reviews.php?id=159933     0.155     0.043   \n",
       "1    https://myanimelist.net/reviews.php?id=325086     0.088     0.056   \n",
       "2    https://myanimelist.net/reviews.php?id=205310     0.167     0.129   \n",
       "3    https://myanimelist.net/reviews.php?id=281105     0.174     0.123   \n",
       "4    https://myanimelist.net/reviews.php?id=225527     0.340     0.043   \n",
       "..                                             ...       ...       ...   \n",
       "895  https://myanimelist.net/reviews.php?id=291340     0.261     0.037   \n",
       "896   https://myanimelist.net/reviews.php?id=63241     0.341     0.049   \n",
       "897  https://myanimelist.net/reviews.php?id=320191     0.198     0.063   \n",
       "898   https://myanimelist.net/reviews.php?id=16006     0.251     0.023   \n",
       "899  https://myanimelist.net/reviews.php?id=104835     0.273     0.052   \n",
       "\n",
       "     Neutral  Compound  Sentiment  pred  \n",
       "0      0.801    0.9986          3     3  \n",
       "1      0.856    0.9020          3     1  \n",
       "2      0.703    0.9951          3     3  \n",
       "3      0.702    0.9962          3     3  \n",
       "4      0.617    0.9996          3     3  \n",
       "..       ...       ...        ...   ...  \n",
       "895    0.703    0.9942          3     3  \n",
       "896    0.610    0.9926          3     3  \n",
       "897    0.739    0.9957          3     3  \n",
       "898    0.726    0.9971          3     3  \n",
       "899    0.675    0.9999          3     3  \n",
       "\n",
       "[900 rows x 13 columns]"
      ]
     },
     "execution_count": 146,
     "metadata": {},
     "output_type": "execute_result"
    }
   ],
   "source": [
    "test"
   ]
  },
  {
   "cell_type": "code",
   "execution_count": null,
   "id": "38b094eb",
   "metadata": {},
   "outputs": [],
   "source": []
  }
 ],
 "metadata": {
  "kernelspec": {
   "display_name": "Python 3 (ipykernel)",
   "language": "python",
   "name": "python3"
  },
  "language_info": {
   "codemirror_mode": {
    "name": "ipython",
    "version": 3
   },
   "file_extension": ".py",
   "mimetype": "text/x-python",
   "name": "python",
   "nbconvert_exporter": "python",
   "pygments_lexer": "ipython3",
   "version": "3.9.7"
  }
 },
 "nbformat": 4,
 "nbformat_minor": 5
}
